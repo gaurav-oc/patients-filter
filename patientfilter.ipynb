{
 "cells": [
  {
   "cell_type": "code",
   "execution_count": 1,
   "metadata": {},
   "outputs": [
    {
     "name": "stdout",
     "output_type": "stream",
     "text": [
      "Writing filter.py\n"
     ]
    }
   ],
   "source": [
    "%%writefile filter.py\n",
    "import pandas as pd\n",
    "import os\n",
    "import psycopg2\n",
    "from configparser import ConfigParser\n",
    "from sqlalchemy import create_engine\n",
    "datafilePath=os.path.abspath('patients.csv')\n",
    "if (os.path.isfile(datafilePath)):\n",
    "    df=pd.read_csv(datafilePath)\n",
    "    df=df[df.age.notna()]\n",
    "    df.disease=df.disease.apply(lambda x: x.lower())\n",
    "    df=df[((df.age>40)&(df.disease.str.contains('cancer')))]\n",
    "    \n",
    "    databaseIniFile=os.path.abspath('database.ini')\n",
    "    if os.path.isfile('database.ini'):\n",
    "        parser=ConfigParser()\n",
    "        section='postgresql'\n",
    "        parser.read(databaseIniFile)\n",
    "        db={}\n",
    "        if parser.has_section(section):\n",
    "            for item in parser.items(section):\n",
    "                db[item[0]]=item[1]\n",
    "        conn=psycopg2.connect(**db)\n",
    "        postgres_url = \"postgresql://{user}:{password}@{host}:5432/{database}\".format(**db)\n",
    "        engine=create_engine(postgres_url)\n",
    "        df.to_sql('patients',engine,if_exists='append')\n",
    "    else:\n",
    "        print(\"Database Initializer File Doen't Exist\")\n",
    "else:\n",
    "    print(\"Record File Doesn't Exist\")"
   ]
  },
  {
   "cell_type": "code",
   "execution_count": null,
   "metadata": {},
   "outputs": [],
   "source": []
  },
  {
   "cell_type": "code",
   "execution_count": null,
   "metadata": {},
   "outputs": [],
   "source": [
    "\n",
    "\n"
   ]
  },
  {
   "cell_type": "code",
   "execution_count": null,
   "metadata": {},
   "outputs": [],
   "source": []
  },
  {
   "cell_type": "code",
   "execution_count": null,
   "metadata": {},
   "outputs": [],
   "source": []
  },
  {
   "cell_type": "code",
   "execution_count": null,
   "metadata": {},
   "outputs": [],
   "source": []
  },
  {
   "cell_type": "code",
   "execution_count": null,
   "metadata": {},
   "outputs": [],
   "source": []
  },
  {
   "cell_type": "code",
   "execution_count": null,
   "metadata": {},
   "outputs": [],
   "source": []
  },
  {
   "cell_type": "code",
   "execution_count": null,
   "metadata": {},
   "outputs": [],
   "source": []
  }
 ],
 "metadata": {
  "kernelspec": {
   "display_name": "Python 3",
   "language": "python",
   "name": "python3"
  },
  "language_info": {
   "codemirror_mode": {
    "name": "ipython",
    "version": 3
   },
   "file_extension": ".py",
   "mimetype": "text/x-python",
   "name": "python",
   "nbconvert_exporter": "python",
   "pygments_lexer": "ipython3",
   "version": "3.7.4"
  }
 },
 "nbformat": 4,
 "nbformat_minor": 4
}
